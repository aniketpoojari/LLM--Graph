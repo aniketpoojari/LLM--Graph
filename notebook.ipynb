{
  "cells": [
    {
      "cell_type": "markdown",
      "metadata": {
        "id": "EAgMQFa7fTaU"
      },
      "source": [
        "# Graph Generation Using LLM- Aniket, Sahil"
      ]
    },
    {
      "cell_type": "code",
      "execution_count": null,
      "metadata": {
        "id": "KR60PkC_fTak"
      },
      "outputs": [],
      "source": [
        "import os\n",
        "import openai\n",
        "from string import Template\n",
        "import json\n",
        "import glob\n",
        "from timeit import default_timer as timer\n",
        "from dotenv import load_dotenv\n",
        "from time import sleep"
      ]
    },
    {
      "cell_type": "markdown",
      "source": [
        "# Settings"
      ],
      "metadata": {
        "id": "rFJZKdWZfrzD"
      }
    },
    {
      "cell_type": "code",
      "execution_count": null,
      "metadata": {
        "id": "GS1mIsOzfTan",
        "outputId": "d568dbc2-81f2-4564-9ea9-0fe0a787b43f"
      },
      "outputs": [
        {
          "data": {
            "text/plain": [
              "True"
            ]
          },
          "execution_count": 3,
          "metadata": {},
          "output_type": "execute_result"
        }
      ],
      "source": [
        "# Load environment variables\n",
        "load_dotenv()"
      ]
    },
    {
      "cell_type": "code",
      "execution_count": null,
      "metadata": {
        "id": "6ZPntr6NfTaq"
      },
      "outputs": [],
      "source": [
        "# OpenAI API configuration\n",
        "openai.api_type = \"azure\"\n",
        "openai.api_key = os.getenv(\"OPENAI_API_KEY\")\n",
        "openai.api_base = os.getenv(\"OPENAI_API_BASE\")\n",
        "openai.api_version = os.getenv(\"OPENAI_API_VERSION\")\n",
        "openai_deployment = \"chat-gpt35\""
      ]
    },
    {
      "cell_type": "markdown",
      "metadata": {
        "id": "oO22eURBfTas"
      },
      "source": [
        "### 2. Helper Functions"
      ]
    },
    {
      "cell_type": "code",
      "execution_count": null,
      "metadata": {
        "id": "v6I1wvw4fTat"
      },
      "outputs": [],
      "source": [
        "# Function to call the OpenAI API\n",
        "def process_gpt(file_prompt, system_msg):\n",
        "    \"\"\"\n",
        "    Calls the OpenAI API to process the given prompt and system message.\n",
        "\n",
        "    Args:\n",
        "        file_prompt (str): The prompt to be sent to the OpenAI API.\n",
        "        system_msg (str): The system message to set the context for the API.\n",
        "\n",
        "    Returns:\n",
        "        str: The API response content.\n",
        "    \"\"\"\n",
        "    # Create a completion request to the OpenAI API\n",
        "    completion = openai.ChatCompletion.create(\n",
        "        engine=openai_deployment,\n",
        "        max_tokens=15000,\n",
        "        temperature=0,\n",
        "        messages=[\n",
        "            {\"role\": \"system\", \"content\": system_msg},\n",
        "            {\"role\": \"user\", \"content\": file_prompt},\n",
        "        ],\n",
        "    )\n",
        "    # Get the content of the API response\n",
        "    nlp_results = completion.choices[0].message.content\n",
        "    # Wait for 8 seconds to avoid hitting rate limits\n",
        "    sleep(8)\n",
        "    return nlp_results\n",
        "\n",
        "# Function to take a folder of files and a prompt template, and return a json object of all the entities and relationships\n",
        "def extract_entities_relationships(folder, prompt_template):\n",
        "    \"\"\"\n",
        "    Extracts entities and relationships from files in a specified folder using a prompt template.\n",
        "\n",
        "    Args:\n",
        "        folder (str): The folder containing the files to be processed.\n",
        "        prompt_template (str): The template for creating prompts.\n",
        "\n",
        "    Returns:\n",
        "        list: A list of JSON objects containing extracted entities and relationships.\n",
        "    \"\"\"\n",
        "    # Start the timer to measure the pipeline execution time\n",
        "    start = timer()\n",
        "    # Get all files in the specified folder\n",
        "    files = glob.glob(f\"./data/{folder}/*\")\n",
        "    # Define the system message for setting the context\n",
        "    system_msg = \"You are a helpful IT-project and account management expert who extracts information from documents.\"\n",
        "    print(f\"Running pipeline for {len(files)} files in {folder} folder\")\n",
        "    results = []\n",
        "    # Process each file in the folder\n",
        "    for i, file in enumerate(files):\n",
        "        print(f\"Extracting entities and relationships for {file}\")\n",
        "        try:\n",
        "            # Read the content of the file\n",
        "            with open(file, \"r\") as f:\n",
        "                text = f.read().rstrip()\n",
        "                # Create the prompt using the template\n",
        "                prompt = Template(prompt_template).substitute(ctext=text)\n",
        "                # Call the OpenAI API to process the prompt\n",
        "                result = process_gpt(prompt, system_msg=system_msg)\n",
        "                # Append the result to the list\n",
        "                results.append(json.loads(result))\n",
        "        except Exception as e:\n",
        "            # Handle any exceptions that occur during file processing\n",
        "            print(f\"Error processing {file}: {e}\")\n",
        "    # End the timer and print the total execution time\n",
        "    end = timer()\n",
        "    print(f\"Pipeline completed in {end-start} seconds\")\n",
        "    return results\n",
        "\n",
        "# Final function to bring all the steps together\n",
        "def ingestion_pipeline(folders):\n",
        "    \"\"\"\n",
        "    Combines the extracted entities and relationships from multiple folders into a single JSON object.\n",
        "\n",
        "    Args:\n",
        "        folders (dict): A dictionary where the keys are folder names and values are prompt templates.\n",
        "\n",
        "    Returns:\n",
        "        list: A combined list of JSON objects from all folders.\n",
        "    \"\"\"\n",
        "    # Initialize an empty list to store the combined entities and relationships\n",
        "    entities_relationships = []\n",
        "    # Iterate through each folder and its corresponding prompt template\n",
        "    for key, value in folders.items():\n",
        "        # Extract entities and relationships from the current folder and extend the list\n",
        "        entities_relationships.extend(extract_entities_relationships(key, value))\n",
        "    return entities_relationships"
      ]
    },
    {
      "cell_type": "markdown",
      "metadata": {
        "id": "QcLpCneMfTau"
      },
      "source": [
        "### 3. Defining Prompts"
      ]
    },
    {
      "cell_type": "code",
      "execution_count": null,
      "metadata": {
        "id": "FBBYvVpCfTav"
      },
      "outputs": [],
      "source": [
        "# Prompt for processing project briefs\n",
        "project_prompt_template = \"\"\"\n",
        "From the Project Brief below, extract the following Entities & relationships described in the mentioned format\n",
        "0. ALWAYS FINISH THE OUTPUT. Never send partial responses\n",
        "1. First, look for these Entity types in the text and generate as comma-separated format similar to entity type.\n",
        "   `id` property of each entity must be alphanumeric and must be unique among the entities. You will be referring this property to define the relationship between entities. Do not create new entity types that aren't mentioned below. Document must be summarized and stored inside Project entity under `summary` property. You will have to generate as many entities as needed as per the types below:\n",
        "    Entity Types:\n",
        "    label:'Project',id:string,name:string;summary:string //Project mentioned in the brief; `id` property is the full name of the project, in lowercase, with no capital letters, special characters, spaces or hyphens; Contents of original document must be summarized inside 'summary' property\n",
        "    label:'Technology',id:string,name:string //Technology Entity; `id` property is the name of the technology, in camel-case. Identify as many of the technologies used as possible\n",
        "    label:'Client',id:string,name:string;industry:string //Client that the project was done for; `id` property is the name of the Client, in camel-case; 'industry' is the industry that the client operates in, as mentioned in the project brief.\n",
        "\n",
        "2. Next generate each relationships as triples of head, relationship and tail. To refer the head and tail entity, use their respective `id` property. Relationship property should be mentioned within brackets as comma-separated. They should follow these relationship types below. You will have to generate as many relationships as needed as defined below:\n",
        "    Relationship types:\n",
        "    project|USES_TECH|technology\n",
        "    project|HAS_CLIENT|client\n",
        "\n",
        "\n",
        "3. The output should look like :\n",
        "{\n",
        "    \"entities\": [{\"label\":\"Project\",\"id\":string,\"name\":string,\"summary\":string}],\n",
        "    \"relationships\": [\"projectid|USES_TECH|technologyid\"]\n",
        "}\n",
        "\n",
        "Case Sheet:\n",
        "$ctext\n",
        "\"\"\"\n",
        "\n",
        "\n",
        "# Prompt for processing peoples' profiles\n",
        "people_prompt_template = \"\"\"From the list of people below, extract the following Entities & relationships described in the mentioned format\n",
        "0. ALWAYS FINISH THE OUTPUT. Never send partial responses\n",
        "1. First, look for these Entity types in the text and generate as comma-separated format similar to entity type.\n",
        "   `id` property of each entity must be alphanumeric and must be unique among the entities. You will be referring this property to define the relationship between entities. Do not create new entity types that aren't mentioned below. You will have to generate as many entities as needed as per the types below:\n",
        "    Entity Types:\n",
        "    label:'Person',id:string,name:string //Person that the data is about. `id` property is the name of the person, in camel-case. 'name' is the person's name, as spelled in the text.\n",
        "    label:'Project',id:string,name:string;summary:string //Project mentioned in the profile; `id` property is the full lowercase name of the project, with no capital letters, special characters, spaces or hyphens.\n",
        "    label:'Technology',id:string,name:string //Technology Entity, as listed in the \"skills\"-section of every person; `id` property is the name of the technology, in camel-case.\n",
        "\n",
        "3. Next generate each relationships as triples of head, relationship and tail. To refer the head and tail entity, use their respective `id` property. Relationship property should be mentioned within brackets as comma-separated. They should follow these relationship types below. You will have to generate as many relationships as needed as defined below:\n",
        "    Relationship types:\n",
        "    person|HAS_SKILLS|technology\n",
        "    project|HAS_PEOPLE|person\n",
        "\n",
        "\n",
        "The output should look like :\n",
        "{\n",
        "    \"entities\": [{\"label\":\"Person\",\"id\":string,\"name\":string}],\n",
        "    \"relationships\": [\"projectid|HAS_PEOPLE|personid\"]\n",
        "}\n",
        "\n",
        "Case Sheet:\n",
        "$ctext\n",
        "\"\"\"\n",
        "\n",
        "\n",
        "# Prompt for processing slack messages\n",
        "\n",
        "slack_prompt_template = \"\"\"\n",
        "From the list of messages below, extract the following Entities & relationships described in the mentioned format\n",
        "0. ALWAYS FINISH THE OUTPUT. Never send partial responses\n",
        "1. First, look for these Entity types in the text and generate as comma-separated format similar to entity type.\n",
        "   `id` property of each entity must be alphanumeric and must be unique among the entities. You will be referring this property to define the relationship between entities. Do not create new entity types that aren't mentioned below. You will have to generate as many entities as needed as per the types below:\n",
        "    Entity Types:\n",
        "    label:'Person',id:string,name:string //Person that sent the message. `id` property is the name of the person, in camel-case; for example, \"michaelClark\", or \"emmaMartinez\"; 'name' is the person's name, as spelled in the text.\n",
        "    label:'SlackMessage',id:string,text:string //The Slack-Message that was sent; 'id' property should be the message id, as spelled in the reference. 'text' property is the text content of the message, as spelled in the reference\n",
        "\n",
        "3. Next generate each relationships as triples of head, relationship and tail. To refer the head and tail entity, use their respective `id` property. Relationship property should be mentioned within brackets as comma-separated. They should follow these relationship types below. You will have to generate as many relationships as needed as defined below:\n",
        "    Relationship types:\n",
        "    personid|SENT|slackmessageid\n",
        "\n",
        "The output should look like :\n",
        "{\n",
        "    \"entities\": [{\"label\":\"SlackMessage\",\"id\":string,\"text\":string}],\n",
        "    \"relationships\": [\"personid|SENT|messageid\"]\n",
        "}\n",
        "\n",
        "Case Sheet:\n",
        "$ctext\n",
        "\"\"\""
      ]
    },
    {
      "cell_type": "markdown",
      "metadata": {
        "id": "Is4awBMbfTaw"
      },
      "source": [
        "### 4. Running the pipeline\n"
      ]
    },
    {
      "cell_type": "code",
      "execution_count": null,
      "metadata": {
        "id": "jnEgbaZafTaw"
      },
      "outputs": [],
      "source": [
        "folders = {\n",
        "    \"people_profiles\": people_prompt_template,\n",
        "    \"project_briefs\": project_prompt_template,\n",
        "    \"slack_messages\": slack_prompt_template,\n",
        "}\n",
        "\n",
        "ingestion_pipeline(folders)"
      ]
    }
  ],
  "metadata": {
    "kernelspec": {
      "display_name": "Python 3",
      "language": "python",
      "name": "python3"
    },
    "language_info": {
      "codemirror_mode": {
        "name": "ipython",
        "version": 3
      },
      "file_extension": ".py",
      "mimetype": "text/x-python",
      "name": "python",
      "nbconvert_exporter": "python",
      "pygments_lexer": "ipython3",
      "version": "3.9.13"
    },
    "colab": {
      "provenance": []
    }
  },
  "nbformat": 4,
  "nbformat_minor": 0
}